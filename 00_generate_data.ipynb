{
 "cells": [
  {
   "cell_type": "code",
   "execution_count": 1,
   "metadata": {},
   "outputs": [],
   "source": [
    "import math\n",
    "import numpy as np\n",
    "from numpy import random\n",
    "import pandas as pd\n",
    "\n",
    "import matplotlib.pyplot as plt\n",
    "import matplotlib.image as mpimg"
   ]
  },
  {
   "cell_type": "code",
   "execution_count": 2,
   "metadata": {},
   "outputs": [],
   "source": [
    "# Functions to generate list of points, with coordinate and labels\n",
    "\n",
    "def generate_point_labels(count):\n",
    "    num1, num2, l = 1, 1, []\n",
    "    for i in range(count):\n",
    "        l.append(str(num1) + '.' + str(num2))\n",
    "        # 15% chance, the 1st part of number series will be incremented\n",
    "        if (random.random() > 0.85): \n",
    "            num1, num2 = num1 + 1, 1\n",
    "        else:\n",
    "            num2 = num2 + 1\n",
    "    return l\n",
    "\n",
    "def generate_points(dim_x, dim_y, count):\n",
    "    X = random.random(count) * dim_x * 0.9 + (0.05*dim_x)\n",
    "    Y = random.random(count) * dim_y * 0.9 + (0.05*dim_y)\n",
    "    labels = generate_point_labels(count)\n",
    "    \n",
    "    points = list(zip(labels, X, Y))\n",
    "    df = pd.DataFrame(points, columns=['label', 'x', 'y'])\n",
    "    df.x = df.x.map(math.floor)\n",
    "    df.y = df.y.map(math.floor)\n",
    "    return df\n",
    "\n",
    "def generate_points_from_image(image_filename, point_count):\n",
    "    img = mpimg.imread(image_filename)\n",
    "    dim_x, dim_y = img.shape[1], img.shape[0] \n",
    "    points = generate_points(dim_x, dim_y, point_count)\n",
    "    points.to_csv(\"data/points_\" + str(point_count).zfill(4) + \".csv\", index=False)\n",
    "    return points"
   ]
  },
  {
   "cell_type": "code",
   "execution_count": 3,
   "metadata": {},
   "outputs": [],
   "source": [
    "image_filename = \"floorplan.png\"\n",
    "point_counts = (25, 50, 100, 200, 500)\n",
    "\n",
    "for count in point_counts:\n",
    "    df = generate_points_from_image(image_filename, count)"
   ]
  },
  {
   "cell_type": "code",
   "execution_count": null,
   "metadata": {},
   "outputs": [],
   "source": []
  }
 ],
 "metadata": {
  "kernelspec": {
   "display_name": "Python 3",
   "language": "python",
   "name": "python3"
  },
  "language_info": {
   "codemirror_mode": {
    "name": "ipython",
    "version": 3
   },
   "file_extension": ".py",
   "mimetype": "text/x-python",
   "name": "python",
   "nbconvert_exporter": "python",
   "pygments_lexer": "ipython3",
   "version": "3.7.6"
  }
 },
 "nbformat": 4,
 "nbformat_minor": 4
}
